{
 "cells": [
  {
   "cell_type": "markdown",
   "id": "c353de9a",
   "metadata": {},
   "source": [
    "# Проект: классификация"
   ]
  },
  {
   "cell_type": "code",
   "execution_count": 74,
   "id": "4a6e54dc",
   "metadata": {},
   "outputs": [],
   "source": [
    "import pandas as pd\n",
    "import numpy as np\n",
    "import matplotlib.pyplot as plt\n",
    "import seaborn as sns\n",
    "from  sklearn.ensemble import IsolationForest\n",
    "import warnings\n",
    "warnings.filterwarnings('ignore')\n",
    "from sklearn.preprocessing  import LabelEncoder\n",
    "from sklearn import linear_model \n",
    "from sklearn import tree \n",
    "from sklearn import ensemble \n",
    "from sklearn import metrics \n",
    "from sklearn import preprocessing \n",
    "from sklearn.model_selection import train_test_split \n",
    "from sklearn.feature_selection import SelectKBest, f_classif"
   ]
  },
  {
   "cell_type": "markdown",
   "id": "71559b60",
   "metadata": {},
   "source": [
    "## Часть 1. Знакомство с данными, обработка пропусков и выбросов"
   ]
  },
  {
   "cell_type": "markdown",
   "id": "8292ec2f",
   "metadata": {},
   "source": [
    "*Данные о клиентах банка:*\n",
    "\n",
    "* age (возраст);\n",
    "* job (сфера занятости);\n",
    "* marital (семейное положение);\n",
    "* education (уровень образования);\n",
    "* default (имеется ли просроченный кредит);\n",
    "* housing (имеется ли кредит на жильё);\n",
    "* loan (имеется ли кредит на личные нужды);\n",
    "* balance (баланс).\n",
    "\n",
    "*Данные, связанные с последним контактом в контексте текущей маркетинговой кампании:*\n",
    "\n",
    "* contact (тип контакта с клиентом);\n",
    "* month (месяц, в котором был последний контакт);\n",
    "* day (день, в который был последний контакт);\n",
    "* duration (продолжительность контакта в секундах).\n",
    "\n",
    "*Прочие признаки:*\n",
    "\n",
    "* campaign (количество контактов с этим клиентом в течение текущей кампании);\n",
    "* pdays (количество пропущенных дней с момента последней маркетинговой кампании до контакта в текущей кампании);\n",
    "* previous (количество контактов до текущей кампании)\n",
    "* poutcome (результат прошлой маркетинговой кампании).\n",
    "\n",
    "***Целевая переменная deposit,*** которая определяет, согласится ли клиент открыть депозит в банке. Именно её мы будем пытаться предсказать в данном кейсе."
   ]
  },
  {
   "cell_type": "markdown",
   "id": "7c5e31b2",
   "metadata": {},
   "source": [
    "### Задание 1\n",
    "\n",
    "исследуйте данные на предмет пропусков. Где есть пропущенные значения? Сколько их?\n"
   ]
  },
  {
   "cell_type": "code",
   "execution_count": 75,
   "id": "20730cd7",
   "metadata": {},
   "outputs": [],
   "source": [
    "df = pd.read_csv('/Users/dariashavronskaia/Desktop/data science/data/bank_fin.csv', sep = ';')"
   ]
  },
  {
   "cell_type": "code",
   "execution_count": 76,
   "id": "ba11dc67",
   "metadata": {},
   "outputs": [
    {
     "data": {
      "text/plain": [
       "age           0\n",
       "job           0\n",
       "marital       0\n",
       "education     0\n",
       "default       0\n",
       "balance      25\n",
       "housing       0\n",
       "loan          0\n",
       "contact       0\n",
       "day           0\n",
       "month         0\n",
       "duration      0\n",
       "campaign      0\n",
       "pdays         0\n",
       "previous      0\n",
       "poutcome      0\n",
       "deposit       0\n",
       "dtype: int64"
      ]
     },
     "execution_count": 76,
     "metadata": {},
     "output_type": "execute_result"
    }
   ],
   "source": [
    "df.isna().sum()"
   ]
  },
  {
   "cell_type": "markdown",
   "id": "6366f059",
   "metadata": {},
   "source": [
    "### Задание 2\n",
    "\n",
    "есть ли в признаке job пропущенные значения? Возможно, они обозначены каким-то специальным словом?\n"
   ]
  },
  {
   "cell_type": "code",
   "execution_count": 77,
   "id": "98ea29d4",
   "metadata": {},
   "outputs": [
    {
     "data": {
      "text/plain": [
       "array(['admin.', 'technician', 'services', 'management', 'retired',\n",
       "       'blue-collar', 'unemployed', 'entrepreneur', 'housemaid',\n",
       "       'unknown', 'self-employed', 'student'], dtype=object)"
      ]
     },
     "execution_count": 77,
     "metadata": {},
     "output_type": "execute_result"
    }
   ],
   "source": [
    "df['job'].unique()"
   ]
  },
  {
   "cell_type": "markdown",
   "id": "8fcf4fcd",
   "metadata": {},
   "source": [
    "### Задание 3\n",
    "\n",
    "преобразуйте признак balance таким образом, чтобы он корректно считывался, как вещественное число (float)\n"
   ]
  },
  {
   "cell_type": "code",
   "execution_count": 78,
   "id": "3a01be5e",
   "metadata": {},
   "outputs": [],
   "source": [
    "df['balance'] = df['balance'].str.replace('$', '')\n",
    "df['balance'] = df['balance'].str.replace(' ', '')\n",
    "df['balance'] = df['balance'].str.replace(',', '.')"
   ]
  },
  {
   "cell_type": "code",
   "execution_count": 79,
   "id": "28c44436",
   "metadata": {},
   "outputs": [],
   "source": [
    "df['balance'] = df['balance'].astype(float)"
   ]
  },
  {
   "cell_type": "markdown",
   "id": "6de63fd7",
   "metadata": {},
   "source": [
    "### Задание 4"
   ]
  },
  {
   "cell_type": "code",
   "execution_count": 80,
   "id": "6a684a63",
   "metadata": {},
   "outputs": [
    {
     "data": {
      "text/plain": [
       "1526.9360329690019"
      ]
     },
     "execution_count": 80,
     "metadata": {},
     "output_type": "execute_result"
    }
   ],
   "source": [
    "# обработайте пропуски в признаки balance , заменив их на медианные значения по данному признаку\n",
    "median = df['balance'].median()\n",
    "df['balance'] = df['balance'].fillna(median)\n",
    "df['balance'].mean()"
   ]
  },
  {
   "cell_type": "markdown",
   "id": "1097ec42",
   "metadata": {},
   "source": [
    "### Задание 5\n",
    "\n",
    "обработайте пропуски в категориальных признаках: job и education, заменив их на модальные значения\n"
   ]
  },
  {
   "cell_type": "code",
   "execution_count": 81,
   "id": "0fa070a6",
   "metadata": {},
   "outputs": [],
   "source": [
    "df['job'] = df['job'].replace('unknown', np.NaN)\n",
    "df['education'] = df['education'].replace('unknown', np.NaN)"
   ]
  },
  {
   "cell_type": "code",
   "execution_count": 82,
   "id": "7612ef05",
   "metadata": {},
   "outputs": [],
   "source": [
    "df['job'] = df['job'].fillna(df['job'].mode()[0])\n",
    "df['education'] = df['education'].fillna(df['education'].mode()[0])"
   ]
  },
  {
   "cell_type": "code",
   "execution_count": 83,
   "id": "ca5544c6",
   "metadata": {},
   "outputs": [],
   "source": [
    "popular_job = df['job'].mode()[0]\n",
    "popular_education = df['education'].mode()[0]\n",
    "\n",
    "# Фильтруем данные по самой популярной работе и уровню образования\n",
    "filtered_data = df[(df['job'] == popular_job) & (df['education'] == popular_education)]"
   ]
  },
  {
   "cell_type": "code",
   "execution_count": 84,
   "id": "f9a31771",
   "metadata": {},
   "outputs": [
    {
     "data": {
      "text/plain": [
       "1598.8829787234042"
      ]
     },
     "execution_count": 84,
     "metadata": {},
     "output_type": "execute_result"
    }
   ],
   "source": [
    "filtered_data['balance'].mean()"
   ]
  },
  {
   "cell_type": "markdown",
   "id": "02af77c6",
   "metadata": {},
   "source": [
    "### Задание 6\n",
    "\n",
    "удалите все выбросы для признака balance"
   ]
  },
  {
   "cell_type": "code",
   "execution_count": 85,
   "id": "3802cdd9",
   "metadata": {},
   "outputs": [
    {
     "name": "stdout",
     "output_type": "stream",
     "text": [
      "Верхняя граница: 4063.0\n",
      "Нижняя граница: -2241.0\n",
      "Исходное количество объектов: 11162\n",
      "Количество объектов после удаления выбросов: 10105\n"
     ]
    }
   ],
   "source": [
    "# Определение квартилей и IQR\n",
    "Q1 = df['balance'].quantile(0.25)\n",
    "Q3 = df['balance'].quantile(0.75)\n",
    "IQR = Q3 - Q1\n",
    "\n",
    "# Коэффициент для определения границ\n",
    "k = 1.5\n",
    "\n",
    "# Вычисление верхней и нижней границ\n",
    "upper_bound = Q3 + k * IQR\n",
    "lower_bound = Q1 - k * IQR\n",
    "\n",
    "# Вывод результатов\n",
    "print(f\"Верхняя граница: {upper_bound}\")\n",
    "print(f\"Нижняя граница: {lower_bound}\")\n",
    "\n",
    "# Фильтр для удаления выбросов\n",
    "filtered_df = df.loc[(df['balance'] >= lower_bound) & (df['balance'] <= upper_bound)]\n",
    "\n",
    "# Вывод результата\n",
    "print(\"Исходное количество объектов:\", df.shape[0])\n",
    "print(\"Количество объектов после удаления выбросов:\", filtered_df.shape[0])"
   ]
  },
  {
   "cell_type": "markdown",
   "id": "5d22b8cd",
   "metadata": {},
   "source": [
    "## Часть 2:  Разведывательный анализ"
   ]
  },
  {
   "cell_type": "markdown",
   "id": "21e1f083",
   "metadata": {},
   "source": [
    "### Задание 1\n",
    "\n",
    "изучите соотношение классов в ваших данных на предмет несбалансированности, проиллюстрируйте результат\n"
   ]
  },
  {
   "cell_type": "code",
   "execution_count": 89,
   "id": "961dda25",
   "metadata": {},
   "outputs": [
    {
     "data": {
      "image/png": "[encoded data removed]",
      "text/plain": [
       "<Figure size 1500x1000 with 1 Axes>"
      ]
     },
     "metadata": {},
     "output_type": "display_data"
    }
   ],
   "source": [
    "filtered_df['deposit'].value_counts()\n",
    "ax = sns.countplot(filtered_df['deposit'])\n",
    "ax.set(xlabel='Account is opened', ylabel='Account is opened')\n",
    "ax.set_title('Number of clients\\n',fontsize=16);"
   ]
  },
  {
   "cell_type": "markdown",
   "id": "b805df14",
   "metadata": {},
   "source": [
    "### Задание 2\n",
    "\n",
    "рассчитайте описательные статистики для количественных переменных, проинтерпретируйте результат"
   ]
  },
  {
   "cell_type": "code",
   "execution_count": 14,
   "id": "32b19746",
   "metadata": {},
   "outputs": [
    {
     "data": {
      "text/plain": [
       "95"
      ]
     },
     "execution_count": 14,
     "metadata": {},
     "output_type": "execute_result"
    }
   ],
   "source": [
    "filtered_df['age'].max()"
   ]
  },
  {
   "cell_type": "code",
   "execution_count": 15,
   "id": "d2ce42ad",
   "metadata": {},
   "outputs": [
    {
     "data": {
      "text/plain": [
       "2"
      ]
     },
     "execution_count": 15,
     "metadata": {},
     "output_type": "execute_result"
    }
   ],
   "source": [
    "filtered_df[\"duration\"].min()"
   ]
  },
  {
   "cell_type": "markdown",
   "id": "00077895",
   "metadata": {},
   "source": [
    "### Задание 3 \n",
    "\n",
    "рассчитайте описательные статистики для категориальных переменных, проинтерпретируйте результат"
   ]
  },
  {
   "cell_type": "code",
   "execution_count": 16,
   "id": "d4197243",
   "metadata": {},
   "outputs": [
    {
     "data": {
      "text/plain": [
       "12"
      ]
     },
     "execution_count": 16,
     "metadata": {},
     "output_type": "execute_result"
    }
   ],
   "source": [
    "filtered_df[filtered_df['campaign'] != 0]['month'].nunique()"
   ]
  },
  {
   "cell_type": "code",
   "execution_count": 17,
   "id": "63f4f424",
   "metadata": {},
   "outputs": [
    {
     "data": {
      "text/plain": [
       "11"
      ]
     },
     "execution_count": 17,
     "metadata": {},
     "output_type": "execute_result"
    }
   ],
   "source": [
    "filtered_df['job'].nunique()"
   ]
  },
  {
   "cell_type": "markdown",
   "id": "1c862197",
   "metadata": {},
   "source": [
    "### Задание 4\n",
    "\n",
    "Узнайте, для какого статуса предыдущей маркетинговой кампании успех в текущей превалирует над количеством неудач.\n"
   ]
  },
  {
   "cell_type": "code",
   "execution_count": 18,
   "id": "d545d576",
   "metadata": {},
   "outputs": [
    {
     "data": {
      "text/plain": [
       "poutcome  deposit\n",
       "failure   no          562\n",
       "          yes         547\n",
       "other     no          216\n",
       "          yes         265\n",
       "success   no           84\n",
       "          yes         861\n",
       "unknown   no         4562\n",
       "          yes        3008\n",
       "dtype: int64"
      ]
     },
     "execution_count": 18,
     "metadata": {},
     "output_type": "execute_result"
    }
   ],
   "source": [
    "filtered_df.groupby(['poutcome', 'deposit']).size()"
   ]
  },
  {
   "cell_type": "markdown",
   "id": "9246d0f2",
   "metadata": {},
   "source": [
    "### Задание 5\n",
    "\n",
    "узнайте, в каком месяце чаще всего отказывались от предложения открыть депозит"
   ]
  },
  {
   "cell_type": "code",
   "execution_count": 19,
   "id": "edc374d4",
   "metadata": {},
   "outputs": [
    {
     "data": {
      "text/plain": [
       "month  deposit\n",
       "apr    no          317\n",
       "       yes         513\n",
       "aug    no          775\n",
       "       yes         610\n",
       "dec    no            9\n",
       "       yes          84\n",
       "feb    no          323\n",
       "       yes         386\n",
       "jan    no          194\n",
       "       yes         125\n",
       "jul    no          836\n",
       "       yes         582\n",
       "jun    no          606\n",
       "       yes         498\n",
       "mar    no           24\n",
       "       yes         213\n",
       "may    no         1776\n",
       "       yes         841\n",
       "nov    no          456\n",
       "       yes         324\n",
       "oct    no           62\n",
       "       yes         273\n",
       "sep    no           46\n",
       "       yes         232\n",
       "dtype: int64"
      ]
     },
     "execution_count": 19,
     "metadata": {},
     "output_type": "execute_result"
    }
   ],
   "source": [
    "filtered_df.groupby(['month', 'deposit']).size()"
   ]
  },
  {
   "cell_type": "markdown",
   "id": "34ea22b4",
   "metadata": {},
   "source": [
    "### Задание 6\n",
    "\n",
    "создайте возрастные группы и определите, в каких группах более склонны открывать депозит, чем отказываться от предложения\n"
   ]
  },
  {
   "cell_type": "code",
   "execution_count": 20,
   "id": "ea4001a7",
   "metadata": {},
   "outputs": [
    {
     "data": {
      "text/plain": [
       "age_group\n",
       "30-40    1913\n",
       "40-50    1063\n",
       "<30       928\n",
       "50-60     785\n",
       "60+       600\n",
       "Name: count, dtype: int64"
      ]
     },
     "execution_count": 20,
     "metadata": {},
     "output_type": "execute_result"
    }
   ],
   "source": [
    "# Создаем интервалы для категорий возраста\n",
    "age_bins = [0, 30, 40, 50, 60, float('inf')]  # Границы категорий: <30, 30-40, 40-50, 50-60, 60+\n",
    "\n",
    "# Метки для категорий возраста\n",
    "age_labels = ['<30', '30-40', '40-50', '50-60', '60+']\n",
    "\n",
    "# Добавляем новый столбец \"age_group\" с категориями возраста\n",
    "df['age_group'] = pd.cut(df['age'], bins=age_bins, labels=age_labels, right=False)\n",
    "\n",
    "df[df['deposit'] == 'yes']['age_group'].value_counts()\n"
   ]
  },
  {
   "cell_type": "code",
   "execution_count": 21,
   "id": "386c8ed8",
   "metadata": {},
   "outputs": [
    {
     "data": {
      "text/plain": [
       "job\n",
       "management       2315\n",
       "blue-collar      1807\n",
       "technician       1638\n",
       "admin.           1246\n",
       "services          868\n",
       "retired           663\n",
       "self-employed     358\n",
       "unemployed        332\n",
       "student           326\n",
       "entrepreneur      300\n",
       "housemaid         252\n",
       "Name: count, dtype: int64"
      ]
     },
     "execution_count": 21,
     "metadata": {},
     "output_type": "execute_result"
    }
   ],
   "source": [
    "filtered_df['job'].value_counts()"
   ]
  },
  {
   "cell_type": "markdown",
   "id": "0c0b4769",
   "metadata": {},
   "source": [
    "### Задание 7\n",
    "\n",
    "постройте визуализации для открывших и неоткрывших депозит в зависимости от семейного статуса\n"
   ]
  },
  {
   "cell_type": "code",
   "execution_count": 22,
   "id": "d5bdaafa",
   "metadata": {},
   "outputs": [
    {
     "data": {
      "text/plain": [
       "marital   deposit\n",
       "divorced  no          624\n",
       "          yes         553\n",
       "married   no         3303\n",
       "          yes        2412\n",
       "single    no         1497\n",
       "          yes        1716\n",
       "dtype: int64"
      ]
     },
     "execution_count": 22,
     "metadata": {},
     "output_type": "execute_result"
    }
   ],
   "source": [
    "filtered_df.groupby(['marital', 'deposit']).size()"
   ]
  },
  {
   "cell_type": "markdown",
   "id": "838dbc72",
   "metadata": {},
   "source": [
    "### Задание 8\n",
    "\n",
    "постройте сводную таблицу, чтобы определить люди с каким образованием и семейным статусом наиболее многочисленны\n",
    "(если рассматривать тех, кто открыл депозит)"
   ]
  },
  {
   "cell_type": "code",
   "execution_count": 23,
   "id": "ab6ad450",
   "metadata": {},
   "outputs": [],
   "source": [
    "deposit_yes_df = filtered_df[filtered_df['deposit'] == 'yes']\n",
    "deposit_no_df = filtered_df[filtered_df['deposit'] == 'no']\n",
    "# Создаем сводную таблицу для тех, кто открыл депозит\n",
    "pivot_table = deposit_yes_df.pivot_table(index='education', columns='marital', aggfunc='size', fill_value=0)"
   ]
  },
  {
   "cell_type": "code",
   "execution_count": 24,
   "id": "32446924",
   "metadata": {},
   "outputs": [
    {
     "data": {
      "text/html": [
       "<div>\n",
       "<style scoped>\n",
       "    .dataframe tbody tr th:only-of-type {\n",
       "        vertical-align: middle;\n",
       "    }\n",
       "\n",
       "    .dataframe tbody tr th {\n",
       "        vertical-align: top;\n",
       "    }\n",
       "\n",
       "    .dataframe thead th {\n",
       "        text-align: right;\n",
       "    }\n",
       "</style>\n",
       "<table border=\"1\" class=\"dataframe\">\n",
       "  <thead>\n",
       "    <tr style=\"text-align: right;\">\n",
       "      <th>marital</th>\n",
       "      <th>divorced</th>\n",
       "      <th>married</th>\n",
       "      <th>single</th>\n",
       "    </tr>\n",
       "    <tr>\n",
       "      <th>education</th>\n",
       "      <th></th>\n",
       "      <th></th>\n",
       "      <th></th>\n",
       "    </tr>\n",
       "  </thead>\n",
       "  <tbody>\n",
       "    <tr>\n",
       "      <th>primary</th>\n",
       "      <td>96</td>\n",
       "      <td>339</td>\n",
       "      <td>82</td>\n",
       "    </tr>\n",
       "    <tr>\n",
       "      <th>secondary</th>\n",
       "      <td>283</td>\n",
       "      <td>1289</td>\n",
       "      <td>879</td>\n",
       "    </tr>\n",
       "    <tr>\n",
       "      <th>tertiary</th>\n",
       "      <td>174</td>\n",
       "      <td>784</td>\n",
       "      <td>755</td>\n",
       "    </tr>\n",
       "  </tbody>\n",
       "</table>\n",
       "</div>"
      ],
      "text/plain": [
       "marital    divorced  married  single\n",
       "education                           \n",
       "primary          96      339      82\n",
       "secondary       283     1289     879\n",
       "tertiary        174      784     755"
      ]
     },
     "execution_count": 24,
     "metadata": {},
     "output_type": "execute_result"
    }
   ],
   "source": [
    "pivot_table"
   ]
  },
  {
   "cell_type": "markdown",
   "id": "dfd805c0",
   "metadata": {},
   "source": [
    "## Часть 3: преобразование данных"
   ]
  },
  {
   "cell_type": "markdown",
   "id": "e44e715b",
   "metadata": {},
   "source": [
    "### Задание 1\n",
    "\n",
    "преобразуйте уровни образования"
   ]
  },
  {
   "cell_type": "code",
   "execution_count": 35,
   "id": "1e815773",
   "metadata": {},
   "outputs": [
    {
     "name": "stdout",
     "output_type": "stream",
     "text": [
      "11995\n"
     ]
    }
   ],
   "source": [
    "from sklearn.preprocessing import LabelEncoder\n",
    "\n",
    "# Инициализация LabelEncoder\n",
    "label_encoder = LabelEncoder()\n",
    "\n",
    "# Применение LabelEncoder к признаку education\n",
    "filtered_df['education_encoded'] = label_encoder.fit_transform(filtered_df['education'])\n",
    "\n",
    "# Вывод суммы получившегося признака\n",
    "print(filtered_df['education_encoded'].sum())"
   ]
  },
  {
   "cell_type": "markdown",
   "id": "8541e06d",
   "metadata": {},
   "source": [
    "### Задание 2\n",
    "\n",
    "преобразуйте бинарные переменные в представление из нулей и единиц\n"
   ]
  },
  {
   "cell_type": "code",
   "execution_count": 36,
   "id": "22928c5d",
   "metadata": {},
   "outputs": [],
   "source": [
    "filtered_df['deposit_encoded'] = filtered_df['deposit'].apply(lambda x: 1 if x == 'yes' else 0)"
   ]
  },
  {
   "cell_type": "code",
   "execution_count": 37,
   "id": "2558e10e",
   "metadata": {},
   "outputs": [
    {
     "data": {
      "text/plain": [
       "0.4986712532451993"
      ]
     },
     "execution_count": 37,
     "metadata": {},
     "output_type": "execute_result"
    }
   ],
   "source": [
    "filtered_df['deposit_encoded'].std()"
   ]
  },
  {
   "cell_type": "code",
   "execution_count": 38,
   "id": "0b99ca36",
   "metadata": {},
   "outputs": [],
   "source": [
    "filtered_df['default_encoded'] = filtered_df['default'].apply(lambda x: 1 if x == 'yes' else 0)\n",
    "filtered_df['housing_encoded'] = filtered_df['housing'].apply(lambda x: 1 if x == 'yes' else 0)\n",
    "filtered_df['loan_encoded'] = filtered_df['loan'].apply(lambda x: 1 if x == 'yes' else 0)"
   ]
  },
  {
   "cell_type": "code",
   "execution_count": 39,
   "id": "04c87b84",
   "metadata": {},
   "outputs": [
    {
     "name": "stdout",
     "output_type": "stream",
     "text": [
      "0.635\n"
     ]
    }
   ],
   "source": [
    "print((filtered_df['default_encoded'].mean() + filtered_df['housing_encoded'].mean() + filtered_df['loan_encoded'].mean()).round(3))"
   ]
  },
  {
   "cell_type": "markdown",
   "id": "c8e66759",
   "metadata": {},
   "source": [
    "### Задание 3\n",
    "\n",
    "создание dummy-переменных для номинальных переменных 'job', 'marital', 'contact', 'month', 'poutcome'\n"
   ]
  },
  {
   "cell_type": "code",
   "execution_count": 40,
   "id": "b789aa94",
   "metadata": {},
   "outputs": [
    {
     "data": {
      "text/plain": [
       "(10105, 50)"
      ]
     },
     "execution_count": 40,
     "metadata": {},
     "output_type": "execute_result"
    }
   ],
   "source": [
    "# Создание dummy-переменных для номинальных переменных 'job', 'marital', 'contact', 'month', 'poutcome'\n",
    "dummy_variables = pd.get_dummies(filtered_df[['job', 'marital', 'contact', 'month', 'poutcome']], drop_first=True)\n",
    "dummy_variables = dummy_variables.astype(int)\n",
    "\n",
    "# Добавление dummy-переменных к исходному датафрейму\n",
    "filtered_df = pd.concat([filtered_df, dummy_variables], axis=1)\n",
    "\n",
    "# Вывод результата\n",
    "filtered_df.shape"
   ]
  },
  {
   "cell_type": "code",
   "execution_count": 41,
   "id": "ac01c2db",
   "metadata": {},
   "outputs": [
    {
     "name": "stdout",
     "output_type": "stream",
     "text": [
      "<class 'pandas.core.frame.DataFrame'>\n",
      "Index: 10105 entries, 0 to 11161\n",
      "Data columns (total 28 columns):\n",
      " #   Column             Non-Null Count  Dtype\n",
      "---  ------             --------------  -----\n",
      " 0   job_blue-collar    10105 non-null  int64\n",
      " 1   job_entrepreneur   10105 non-null  int64\n",
      " 2   job_housemaid      10105 non-null  int64\n",
      " 3   job_management     10105 non-null  int64\n",
      " 4   job_retired        10105 non-null  int64\n",
      " 5   job_self-employed  10105 non-null  int64\n",
      " 6   job_services       10105 non-null  int64\n",
      " 7   job_student        10105 non-null  int64\n",
      " 8   job_technician     10105 non-null  int64\n",
      " 9   job_unemployed     10105 non-null  int64\n",
      " 10  marital_married    10105 non-null  int64\n",
      " 11  marital_single     10105 non-null  int64\n",
      " 12  contact_telephone  10105 non-null  int64\n",
      " 13  contact_unknown    10105 non-null  int64\n",
      " 14  month_aug          10105 non-null  int64\n",
      " 15  month_dec          10105 non-null  int64\n",
      " 16  month_feb          10105 non-null  int64\n",
      " 17  month_jan          10105 non-null  int64\n",
      " 18  month_jul          10105 non-null  int64\n",
      " 19  month_jun          10105 non-null  int64\n",
      " 20  month_mar          10105 non-null  int64\n",
      " 21  month_may          10105 non-null  int64\n",
      " 22  month_nov          10105 non-null  int64\n",
      " 23  month_oct          10105 non-null  int64\n",
      " 24  month_sep          10105 non-null  int64\n",
      " 25  poutcome_other     10105 non-null  int64\n",
      " 26  poutcome_success   10105 non-null  int64\n",
      " 27  poutcome_unknown   10105 non-null  int64\n",
      "dtypes: int64(28)\n",
      "memory usage: 2.2 MB\n"
     ]
    }
   ],
   "source": [
    "dummy_variables.info()"
   ]
  },
  {
   "cell_type": "code",
   "execution_count": 42,
   "id": "83b96e64",
   "metadata": {},
   "outputs": [],
   "source": [
    "filtered_df.drop(['job', 'marital', 'contact', 'month', 'poutcome'], axis=1, inplace=True)"
   ]
  },
  {
   "cell_type": "code",
   "execution_count": 43,
   "id": "2efd1383",
   "metadata": {},
   "outputs": [],
   "source": [
    "filtered_df.drop(['education', 'housing', 'loan', 'deposit'],axis=1, inplace=True)"
   ]
  },
  {
   "cell_type": "code",
   "execution_count": 44,
   "id": "9ca61b6e",
   "metadata": {},
   "outputs": [],
   "source": [
    "filtered_df.drop(['default'], axis=1, inplace=True)"
   ]
  },
  {
   "cell_type": "markdown",
   "id": "dcaeaf41",
   "metadata": {},
   "source": [
    "### Задание 4\n",
    "\n",
    "постройте корреляционную матрицу и оцените данные на предмет наличия мультиколлинеарности"
   ]
  },
  {
   "cell_type": "code",
   "execution_count": 45,
   "id": "a21b6128",
   "metadata": {},
   "outputs": [],
   "source": [
    "correlation_matrix = filtered_df.corr()"
   ]
  },
  {
   "cell_type": "code",
   "execution_count": 46,
   "id": "bc12125d",
   "metadata": {},
   "outputs": [
    {
     "data": {
      "text/plain": [
       "<Axes: >"
      ]
     },
     "execution_count": 46,
     "metadata": {},
     "output_type": "execute_result"
    },
    {
     "data": {
      "image/png": "[encoded data removed]",
      "text/plain": [
       "<Figure size 1500x1000 with 2 Axes>"
      ]
     },
     "metadata": {},
     "output_type": "display_data"
    }
   ],
   "source": [
    "plt.rcParams['figure.figsize'] = (15,10)\n",
    "sns.heatmap(correlation_matrix)"
   ]
  },
  {
   "cell_type": "markdown",
   "id": "b5b4c1a5",
   "metadata": {},
   "source": [
    "### Задания 7 и 8\n",
    "\n",
    "стратифицированное разбиение\n",
    "\n",
    "рассчитайте необходимые показатели\n",
    "\n"
   ]
  },
  {
   "cell_type": "code",
   "execution_count": 50,
   "id": "79f3e432",
   "metadata": {},
   "outputs": [],
   "source": [
    "X = filtered_df.drop(['deposit_encoded'], axis=1)\n",
    "y = filtered_df['deposit_encoded']\n",
    " \n",
    "X_train, X_test, y_train, y_test = train_test_split(X, y, stratify=y, random_state = 42, test_size = 0.33)"
   ]
  },
  {
   "cell_type": "code",
   "execution_count": 51,
   "id": "e3a097a4",
   "metadata": {},
   "outputs": [
    {
     "data": {
      "text/plain": [
       "(3335, 39)"
      ]
     },
     "execution_count": 51,
     "metadata": {},
     "output_type": "execute_result"
    }
   ],
   "source": [
    "X_test.shape"
   ]
  },
  {
   "cell_type": "code",
   "execution_count": 52,
   "id": "3845148a",
   "metadata": {},
   "outputs": [
    {
     "data": {
      "text/plain": [
       "0.46"
      ]
     },
     "execution_count": 52,
     "metadata": {},
     "output_type": "execute_result"
    }
   ],
   "source": [
    "y_test.mean().round(2)"
   ]
  },
  {
   "cell_type": "markdown",
   "id": "2e381a4f",
   "metadata": {},
   "source": [
    "### Задание 9\n",
    "\n",
    "с помощью SelectKBest отберите 15 наиболее подходящих признаков\n"
   ]
  },
  {
   "cell_type": "code",
   "execution_count": 54,
   "id": "0f6e03e0",
   "metadata": {},
   "outputs": [
    {
     "name": "stdout",
     "output_type": "stream",
     "text": [
      "Отобранные признаки:\n",
      "Index(['balance', 'duration', 'campaign', 'pdays', 'previous',\n",
      "       'housing_encoded', 'loan_encoded', 'job_student', 'contact_unknown',\n",
      "       'month_mar', 'month_may', 'month_oct', 'month_sep', 'poutcome_success',\n",
      "       'poutcome_unknown'],\n",
      "      dtype='object')\n"
     ]
    }
   ],
   "source": [
    "X = filtered_df.select_dtypes(include=['number']).drop(['deposit_encoded'], axis=1)\n",
    "\n",
    "from sklearn.feature_selection import SelectKBest, f_classif\n",
    "\n",
    "# Инициализация SelectKBest с использованием f_classif\n",
    "selector = SelectKBest(score_func=f_classif, k=15)\n",
    "\n",
    "# Применение SelectKBest к обучающим данным\n",
    "X_new = selector.fit_transform(X, y)\n",
    "\n",
    "# Получение индексов отобранных признаков\n",
    "selected_feature_indices = selector.get_support(indices=True)\n",
    "\n",
    "# Получение списка имен отобранных признаков\n",
    "selected_feature_names = X.columns[selected_feature_indices]\n",
    "\n",
    "# Вывод результата\n",
    "print(\"Отобранные признаки:\")\n",
    "print(selected_feature_names)"
   ]
  },
  {
   "cell_type": "markdown",
   "id": "60132ef3",
   "metadata": {},
   "source": [
    "### Задание 10\n",
    "\n",
    "нормализуйте данные с помощью minmaxsxaler"
   ]
  },
  {
   "cell_type": "code",
   "execution_count": 55,
   "id": "e91b06f3",
   "metadata": {},
   "outputs": [
    {
     "name": "stdout",
     "output_type": "stream",
     "text": [
      "0.47\n"
     ]
    }
   ],
   "source": [
    "from sklearn.preprocessing import MinMaxScaler\n",
    "\n",
    "# нормализуйте данные с помощью minmaxsxaler\n",
    "X_train, X_test, y_train, y_test = train_test_split(X_new, y, stratify=y, random_state = 42, test_size = 0.33)\n",
    "\n",
    "# Инициализация объекта MinMaxScaler\n",
    "scaler = MinMaxScaler()\n",
    "\n",
    "# Применение нормализации к X_train\n",
    "X_train_scaled = scaler.fit_transform(X_train)\n",
    "\n",
    "# Применение тех же параметров нормализации к X_test\n",
    "X_test_scaled = scaler.transform(X_test)\n",
    "\n",
    "# Вывод результата\n",
    "print(X_test_scaled[:, 0].mean().round(2))"
   ]
  },
  {
   "cell_type": "markdown",
   "id": "0894c632",
   "metadata": {},
   "source": [
    "# Часть 4: Решение задачи классификации: логистическая регрессия и решающие деревья"
   ]
  },
  {
   "cell_type": "markdown",
   "id": "41b8ff06",
   "metadata": {},
   "source": [
    "### Задание 1\n",
    "\n",
    "обучите логистическую регрессию и рассчитайте метрики качества\n"
   ]
  },
  {
   "cell_type": "code",
   "execution_count": 56,
   "id": "8acc0166",
   "metadata": {},
   "outputs": [
    {
     "name": "stdout",
     "output_type": "stream",
     "text": [
      "Точность модели: 0.81\n"
     ]
    }
   ],
   "source": [
    "from sklearn.linear_model import LogisticRegression\n",
    "from sklearn.metrics import accuracy_score\n",
    "# Создадим модель логистической регрессии с параметром оптимизации 'sag' и random_state=42\n",
    "model = LogisticRegression(solver='sag', random_state=42, max_iter=1000)\n",
    "\n",
    "# Обучим модель на обучающем наборе данных\n",
    "model.fit(X_train_scaled, y_train)\n",
    "\n",
    "# Предскажем значения на тестовом наборе данных\n",
    "y_pred = model.predict(X_test_scaled)\n",
    "\n",
    "# Оценим точность модели\n",
    "# accuracy = np.mean(y_pred == y_test)\n",
    "accuracy = accuracy_score(y_test, y_pred)\n",
    "print(f\"Точность модели: {round(accuracy,2)}\")"
   ]
  },
  {
   "cell_type": "markdown",
   "id": "29b7e0ba",
   "metadata": {},
   "source": [
    "### Задания 2,3,4\n",
    "\n",
    "обучите решающие деревья, настройте максимальную глубину"
   ]
  },
  {
   "cell_type": "code",
   "execution_count": 57,
   "id": "c91a588b",
   "metadata": {},
   "outputs": [
    {
     "name": "stdout",
     "output_type": "stream",
     "text": [
      "Точность модели решающего дерева: 0.7523238380809595\n",
      "Точность модели решающего дерева на тренировочной выборке: 0.9997045790251108\n"
     ]
    }
   ],
   "source": [
    "from sklearn.tree import DecisionTreeClassifier\n",
    "\n",
    "# Создадим модель решающего дерева с заданными параметрами\n",
    "tree_model = DecisionTreeClassifier(criterion='entropy', random_state=42)\n",
    "\n",
    "# Обучим модель решающего дерева на обучающем наборе данных\n",
    "tree_model.fit(X_train_scaled, y_train)\n",
    "\n",
    "# Предскажем значения на тестовом наборе данных\n",
    "tree_y_pred_test = tree_model.predict(X_test_scaled)\n",
    "\n",
    "# Оценим точность модели решающего дерева\n",
    "tree_accuracy = accuracy_score(y_test, tree_y_pred_test)\n",
    "print(f\"Точность модели решающего дерева: {tree_accuracy}\")\n",
    "\n",
    "# Предскажем значения на обучающей выборке\n",
    "tree_y_pred_train = tree_model.predict(X_train_scaled)\n",
    "\n",
    "# Оценим точность модели решающего дерева на обучающей выборке\n",
    "tree_accuracy_train = accuracy_score(y_train, tree_y_pred_train)\n",
    "print(f\"Точность модели решающего дерева на тренировочной выборке: {tree_accuracy_train}\")"
   ]
  },
  {
   "cell_type": "markdown",
   "id": "fe823c18",
   "metadata": {},
   "source": [
    "### Задание 5\n",
    "\n",
    "подберите оптимальные параметры с помощью gridsearch"
   ]
  },
  {
   "cell_type": "code",
   "execution_count": 58,
   "id": "63574943",
   "metadata": {},
   "outputs": [
    {
     "name": "stdout",
     "output_type": "stream",
     "text": [
      "accuracy на обучающем наборе: 0.82\n",
      "accuracy на тестовом наборе: 0.80\n",
      "f1_score на тестовом наборе: 0.78\n",
      "Наилучшие значения гиперпараметров: {'max_depth': 7, 'min_samples_split': 7}\n"
     ]
    }
   ],
   "source": [
    "from sklearn.model_selection import GridSearchCV\n",
    "from sklearn.tree import DecisionTreeClassifier\n",
    "\n",
    "param_grid = {'max_depth': [3,5,7],\n",
    "              'min_samples_split': [2, 5, 7, 10]}\n",
    "\n",
    "grid_search = GridSearchCV(\n",
    "    estimator=DecisionTreeClassifier(criterion='entropy', random_state=42),\n",
    "    param_grid=param_grid,\n",
    "    cv=5,\n",
    "    n_jobs=-1  # Set n_jobs to 1\n",
    ")\n",
    "grid_search.fit(X_train_scaled, y_train)\n",
    "\n",
    "# Теперь можно использовать другие атрибуты или методы\n",
    "print(\"accuracy на обучающем наборе: {:.2f}\".format(grid_search.score(X_train_scaled, y_train)))\n",
    "print(\"accuracy на тестовом наборе: {:.2f}\".format(grid_search.score(X_test_scaled, y_test)))\n",
    "y_test_pred = grid_search.predict(X_test_scaled)\n",
    "print('f1_score на тестовом наборе: {:.2f}'.format(metrics.f1_score(y_test, y_test_pred)))\n",
    "print(\"Наилучшие значения гиперпараметров: {}\".format(grid_search.best_params_))"
   ]
  },
  {
   "cell_type": "markdown",
   "id": "ed0fc831",
   "metadata": {},
   "source": [
    "# Часть 5: Решение задачи классификации: ансамбли моделей и построение прогноза"
   ]
  },
  {
   "cell_type": "markdown",
   "id": "f9e36ff2",
   "metadata": {},
   "source": [
    "### Задание 1\n",
    "\n",
    "обучите на ваших данных случайный лес"
   ]
  },
  {
   "cell_type": "code",
   "execution_count": 59,
   "id": "e708e3fe",
   "metadata": {},
   "outputs": [
    {
     "data": {
      "text/html": [
       "<style>#sk-container-id-1 {color: black;background-color: white;}#sk-container-id-1 pre{padding: 0;}#sk-container-id-1 div.sk-toggleable {background-color: white;}#sk-container-id-1 label.sk-toggleable__label {cursor: pointer;display: block;width: 100%;margin-bottom: 0;padding: 0.3em;box-sizing: border-box;text-align: center;}#sk-container-id-1 label.sk-toggleable__label-arrow:before {content: \"▸\";float: left;margin-right: 0.25em;color: #696969;}#sk-container-id-1 label.sk-toggleable__label-arrow:hover:before {color: black;}#sk-container-id-1 div.sk-estimator:hover label.sk-toggleable__label-arrow:before {color: black;}#sk-container-id-1 div.sk-toggleable__content {max-height: 0;max-width: 0;overflow: hidden;text-align: left;background-color: #f0f8ff;}#sk-container-id-1 div.sk-toggleable__content pre {margin: 0.2em;color: black;border-radius: 0.25em;background-color: #f0f8ff;}#sk-container-id-1 input.sk-toggleable__control:checked~div.sk-toggleable__content {max-height: 200px;max-width: 100%;overflow: auto;}#sk-container-id-1 input.sk-toggleable__control:checked~label.sk-toggleable__label-arrow:before {content: \"▾\";}#sk-container-id-1 div.sk-estimator input.sk-toggleable__control:checked~label.sk-toggleable__label {background-color: #d4ebff;}#sk-container-id-1 div.sk-label input.sk-toggleable__control:checked~label.sk-toggleable__label {background-color: #d4ebff;}#sk-container-id-1 input.sk-hidden--visually {border: 0;clip: rect(1px 1px 1px 1px);clip: rect(1px, 1px, 1px, 1px);height: 1px;margin: -1px;overflow: hidden;padding: 0;position: absolute;width: 1px;}#sk-container-id-1 div.sk-estimator {font-family: monospace;background-color: #f0f8ff;border: 1px dotted black;border-radius: 0.25em;box-sizing: border-box;margin-bottom: 0.5em;}#sk-container-id-1 div.sk-estimator:hover {background-color: #d4ebff;}#sk-container-id-1 div.sk-parallel-item::after {content: \"\";width: 100%;border-bottom: 1px solid gray;flex-grow: 1;}#sk-container-id-1 div.sk-label:hover label.sk-toggleable__label {background-color: #d4ebff;}#sk-container-id-1 div.sk-serial::before {content: \"\";position: absolute;border-left: 1px solid gray;box-sizing: border-box;top: 0;bottom: 0;left: 50%;z-index: 0;}#sk-container-id-1 div.sk-serial {display: flex;flex-direction: column;align-items: center;background-color: white;padding-right: 0.2em;padding-left: 0.2em;position: relative;}#sk-container-id-1 div.sk-item {position: relative;z-index: 1;}#sk-container-id-1 div.sk-parallel {display: flex;align-items: stretch;justify-content: center;background-color: white;position: relative;}#sk-container-id-1 div.sk-item::before, #sk-container-id-1 div.sk-parallel-item::before {content: \"\";position: absolute;border-left: 1px solid gray;box-sizing: border-box;top: 0;bottom: 0;left: 50%;z-index: -1;}#sk-container-id-1 div.sk-parallel-item {display: flex;flex-direction: column;z-index: 1;position: relative;background-color: white;}#sk-container-id-1 div.sk-parallel-item:first-child::after {align-self: flex-end;width: 50%;}#sk-container-id-1 div.sk-parallel-item:last-child::after {align-self: flex-start;width: 50%;}#sk-container-id-1 div.sk-parallel-item:only-child::after {width: 0;}#sk-container-id-1 div.sk-dashed-wrapped {border: 1px dashed gray;margin: 0 0.4em 0.5em 0.4em;box-sizing: border-box;padding-bottom: 0.4em;background-color: white;}#sk-container-id-1 div.sk-label label {font-family: monospace;font-weight: bold;display: inline-block;line-height: 1.2em;}#sk-container-id-1 div.sk-label-container {text-align: center;}#sk-container-id-1 div.sk-container {/* jupyter's `normalize.less` sets `[hidden] { display: none; }` but bootstrap.min.css set `[hidden] { display: none !important; }` so we also need the `!important` here to be able to override the default hidden behavior on the sphinx rendered scikit-learn.org. See: https://github.com/scikit-learn/scikit-learn/issues/21755 */display: inline-block !important;position: relative;}#sk-container-id-1 div.sk-text-repr-fallback {display: none;}</style><div id=\"sk-container-id-1\" class=\"sk-top-container\"><div class=\"sk-text-repr-fallback\"><pre>RandomForestClassifier(max_depth=10, min_samples_leaf=5, random_state=42)</pre><b>In a Jupyter environment, please rerun this cell to show the HTML representation or trust the notebook. <br />On GitHub, the HTML representation is unable to render, please try loading this page with nbviewer.org.</b></div><div class=\"sk-container\" hidden><div class=\"sk-item\"><div class=\"sk-estimator sk-toggleable\"><input class=\"sk-toggleable__control sk-hidden--visually\" id=\"sk-estimator-id-1\" type=\"checkbox\" checked><label for=\"sk-estimator-id-1\" class=\"sk-toggleable__label sk-toggleable__label-arrow\">RandomForestClassifier</label><div class=\"sk-toggleable__content\"><pre>RandomForestClassifier(max_depth=10, min_samples_leaf=5, random_state=42)</pre></div></div></div></div></div>"
      ],
      "text/plain": [
       "RandomForestClassifier(max_depth=10, min_samples_leaf=5, random_state=42)"
      ]
     },
     "execution_count": 59,
     "metadata": {},
     "output_type": "execute_result"
    }
   ],
   "source": [
    "from sklearn.ensemble import RandomForestClassifier\n",
    "\n",
    "# Ваши параметры\n",
    "n_estimators = 100\n",
    "criterion = 'gini'\n",
    "min_samples_leaf = 5\n",
    "max_depth = 10\n",
    "random_state = 42\n",
    "\n",
    "# Создание модели случайного леса\n",
    "random_forest = RandomForestClassifier(\n",
    "    n_estimators=n_estimators,\n",
    "    criterion=criterion,\n",
    "    min_samples_leaf=min_samples_leaf,\n",
    "    max_depth=max_depth,\n",
    "    random_state=random_state\n",
    ")\n",
    "\n",
    "# Обучение модели на вашем наборе данных\n",
    "# X_train и y_train - ваши обучающие данные и метки\n",
    "random_forest.fit(X_train_scaled, y_train)\n",
    "\n",
    "# Теперь ваш случайный лес обучен и готов к использованию"
   ]
  },
  {
   "cell_type": "code",
   "execution_count": 60,
   "id": "4a3b65ae",
   "metadata": {},
   "outputs": [
    {
     "name": "stdout",
     "output_type": "stream",
     "text": [
      "Accuracy: 0.83\n",
      "Recall: 0.84\n"
     ]
    }
   ],
   "source": [
    "from sklearn.metrics import accuracy_score, recall_score\n",
    "\n",
    "# Прогнозы на тестовых данных\n",
    "y_pred = random_forest.predict(X_test_scaled)\n",
    "\n",
    "# Оценка accuracy\n",
    "accuracy = accuracy_score(y_test, y_pred)\n",
    "\n",
    "# Оценка recall\n",
    "recall = recall_score(y_test, y_pred)\n",
    "\n",
    "# Вывод результатов\n",
    "print(f'Accuracy: {accuracy:.2f}')\n",
    "print(f'Recall: {recall:.2f}')"
   ]
  },
  {
   "cell_type": "markdown",
   "id": "71d7b13d",
   "metadata": {},
   "source": [
    "### Задания 2 и 3\n",
    "\n",
    "используйте для классификации градиентный бустинг и сравните качество со случайным лесом\n"
   ]
  },
  {
   "cell_type": "code",
   "execution_count": 61,
   "id": "99f12dfe",
   "metadata": {},
   "outputs": [
    {
     "name": "stdout",
     "output_type": "stream",
     "text": [
      "Gradient Boosting Accuracy: 0.83\n",
      "Gradient Boosting Recall: 0.83\n",
      "Gradient Boosting Accuracy: 0.83\n",
      "Gradient Boosting Recall: 0.83\n"
     ]
    }
   ],
   "source": [
    "from sklearn.ensemble import GradientBoostingClassifier\n",
    "from sklearn.metrics import accuracy_score, recall_score\n",
    "\n",
    "# Ваши параметры\n",
    "learning_rate = 0.05\n",
    "n_estimators = 300\n",
    "min_samples_leaf = 5\n",
    "max_depth = 5\n",
    "random_state = 42\n",
    "\n",
    "# Создание модели градиентного бустинга\n",
    "gradient_boosting = GradientBoostingClassifier(\n",
    "    learning_rate=learning_rate,\n",
    "    n_estimators=n_estimators,\n",
    "    min_samples_leaf=min_samples_leaf,\n",
    "    max_depth=max_depth,\n",
    "    random_state=random_state\n",
    ")\n",
    "\n",
    "# Обучение модели на обучающих данных\n",
    "gradient_boosting.fit(X_train_scaled, y_train)\n",
    "\n",
    "# Прогнозы на тестовых данных\n",
    "y_pred_gb = gradient_boosting.predict(X_test_scaled)\n",
    "\n",
    "# Оценка accuracy\n",
    "accuracy_gb = accuracy_score(y_test, y_pred_gb)\n",
    "\n",
    "# Оценка recall\n",
    "recall_gb = recall_score(y_test, y_pred_gb)\n",
    "\n",
    "# Вывод результатов\n",
    "print(f'Gradient Boosting Accuracy: {accuracy_gb:.2f}')\n",
    "print(f'Gradient Boosting Recall: {recall_gb:.2f}')\n",
    "from sklearn.ensemble import GradientBoostingClassifier\n",
    "from sklearn.metrics import accuracy_score, recall_score\n",
    "\n",
    "# Ваши параметры\n",
    "learning_rate = 0.05\n",
    "n_estimators = 300\n",
    "min_samples_leaf = 5\n",
    "max_depth = 5\n",
    "random_state = 42\n",
    "\n",
    "# Создание модели градиентного бустинга\n",
    "gradient_boosting = GradientBoostingClassifier(\n",
    "    learning_rate=learning_rate,\n",
    "    n_estimators=n_estimators,\n",
    "    min_samples_leaf=min_samples_leaf,\n",
    "    max_depth=max_depth,\n",
    "    random_state=random_state\n",
    ")\n",
    "\n",
    "# Обучение модели на обучающих данных\n",
    "gradient_boosting.fit(X_train_scaled, y_train)\n",
    "\n",
    "# Прогнозы на тестовых данных\n",
    "y_pred_gb = gradient_boosting.predict(X_test_scaled)\n",
    "\n",
    "# Оценка accuracy\n",
    "accuracy_gb = accuracy_score(y_test, y_pred_gb)\n",
    "\n",
    "# Оценка recall\n",
    "recall_gb = recall_score(y_test, y_pred_gb)\n",
    "\n",
    "# Вывод результатов\n",
    "print(f'Gradient Boosting Accuracy: {accuracy_gb:.2f}')\n",
    "print(f'Gradient Boosting Recall: {recall_gb:.2f}')"
   ]
  },
  {
   "cell_type": "markdown",
   "id": "b08718ae",
   "metadata": {},
   "source": [
    "### Задание 4\n",
    "\n",
    "объедините уже известные вам алгоритмы с помощью стекинга"
   ]
  },
  {
   "cell_type": "code",
   "execution_count": 62,
   "id": "0bd42fb0",
   "metadata": {},
   "outputs": [
    {
     "data": {
      "text/html": [
       "<style>#sk-container-id-2 {color: black;background-color: white;}#sk-container-id-2 pre{padding: 0;}#sk-container-id-2 div.sk-toggleable {background-color: white;}#sk-container-id-2 label.sk-toggleable__label {cursor: pointer;display: block;width: 100%;margin-bottom: 0;padding: 0.3em;box-sizing: border-box;text-align: center;}#sk-container-id-2 label.sk-toggleable__label-arrow:before {content: \"▸\";float: left;margin-right: 0.25em;color: #696969;}#sk-container-id-2 label.sk-toggleable__label-arrow:hover:before {color: black;}#sk-container-id-2 div.sk-estimator:hover label.sk-toggleable__label-arrow:before {color: black;}#sk-container-id-2 div.sk-toggleable__content {max-height: 0;max-width: 0;overflow: hidden;text-align: left;background-color: #f0f8ff;}#sk-container-id-2 div.sk-toggleable__content pre {margin: 0.2em;color: black;border-radius: 0.25em;background-color: #f0f8ff;}#sk-container-id-2 input.sk-toggleable__control:checked~div.sk-toggleable__content {max-height: 200px;max-width: 100%;overflow: auto;}#sk-container-id-2 input.sk-toggleable__control:checked~label.sk-toggleable__label-arrow:before {content: \"▾\";}#sk-container-id-2 div.sk-estimator input.sk-toggleable__control:checked~label.sk-toggleable__label {background-color: #d4ebff;}#sk-container-id-2 div.sk-label input.sk-toggleable__control:checked~label.sk-toggleable__label {background-color: #d4ebff;}#sk-container-id-2 input.sk-hidden--visually {border: 0;clip: rect(1px 1px 1px 1px);clip: rect(1px, 1px, 1px, 1px);height: 1px;margin: -1px;overflow: hidden;padding: 0;position: absolute;width: 1px;}#sk-container-id-2 div.sk-estimator {font-family: monospace;background-color: #f0f8ff;border: 1px dotted black;border-radius: 0.25em;box-sizing: border-box;margin-bottom: 0.5em;}#sk-container-id-2 div.sk-estimator:hover {background-color: #d4ebff;}#sk-container-id-2 div.sk-parallel-item::after {content: \"\";width: 100%;border-bottom: 1px solid gray;flex-grow: 1;}#sk-container-id-2 div.sk-label:hover label.sk-toggleable__label {background-color: #d4ebff;}#sk-container-id-2 div.sk-serial::before {content: \"\";position: absolute;border-left: 1px solid gray;box-sizing: border-box;top: 0;bottom: 0;left: 50%;z-index: 0;}#sk-container-id-2 div.sk-serial {display: flex;flex-direction: column;align-items: center;background-color: white;padding-right: 0.2em;padding-left: 0.2em;position: relative;}#sk-container-id-2 div.sk-item {position: relative;z-index: 1;}#sk-container-id-2 div.sk-parallel {display: flex;align-items: stretch;justify-content: center;background-color: white;position: relative;}#sk-container-id-2 div.sk-item::before, #sk-container-id-2 div.sk-parallel-item::before {content: \"\";position: absolute;border-left: 1px solid gray;box-sizing: border-box;top: 0;bottom: 0;left: 50%;z-index: -1;}#sk-container-id-2 div.sk-parallel-item {display: flex;flex-direction: column;z-index: 1;position: relative;background-color: white;}#sk-container-id-2 div.sk-parallel-item:first-child::after {align-self: flex-end;width: 50%;}#sk-container-id-2 div.sk-parallel-item:last-child::after {align-self: flex-start;width: 50%;}#sk-container-id-2 div.sk-parallel-item:only-child::after {width: 0;}#sk-container-id-2 div.sk-dashed-wrapped {border: 1px dashed gray;margin: 0 0.4em 0.5em 0.4em;box-sizing: border-box;padding-bottom: 0.4em;background-color: white;}#sk-container-id-2 div.sk-label label {font-family: monospace;font-weight: bold;display: inline-block;line-height: 1.2em;}#sk-container-id-2 div.sk-label-container {text-align: center;}#sk-container-id-2 div.sk-container {/* jupyter's `normalize.less` sets `[hidden] { display: none; }` but bootstrap.min.css set `[hidden] { display: none !important; }` so we also need the `!important` here to be able to override the default hidden behavior on the sphinx rendered scikit-learn.org. See: https://github.com/scikit-learn/scikit-learn/issues/21755 */display: inline-block !important;position: relative;}#sk-container-id-2 div.sk-text-repr-fallback {display: none;}</style><div id=\"sk-container-id-2\" class=\"sk-top-container\"><div class=\"sk-text-repr-fallback\"><pre>StackingClassifier(estimators=[(&#x27;dt&#x27;,\n",
       "                                DecisionTreeClassifier(criterion=&#x27;entropy&#x27;,\n",
       "                                                       max_depth=6,\n",
       "                                                       min_samples_leaf=5,\n",
       "                                                       random_state=42)),\n",
       "                               (&#x27;log_reg&#x27;,\n",
       "                                LogisticRegression(random_state=42,\n",
       "                                                   solver=&#x27;sag&#x27;)),\n",
       "                               (&#x27;gb&#x27;,\n",
       "                                GradientBoostingClassifier(learning_rate=0.05,\n",
       "                                                           max_depth=5,\n",
       "                                                           min_samples_leaf=5,\n",
       "                                                           n_estimators=300,\n",
       "                                                           random_state=42))],\n",
       "                   final_estimator=LogisticRegression(random_state=42))</pre><b>In a Jupyter environment, please rerun this cell to show the HTML representation or trust the notebook. <br />On GitHub, the HTML representation is unable to render, please try loading this page with nbviewer.org.</b></div><div class=\"sk-container\" hidden><div class=\"sk-item sk-dashed-wrapped\"><div class=\"sk-label-container\"><div class=\"sk-label sk-toggleable\"><input class=\"sk-toggleable__control sk-hidden--visually\" id=\"sk-estimator-id-2\" type=\"checkbox\" ><label for=\"sk-estimator-id-2\" class=\"sk-toggleable__label sk-toggleable__label-arrow\">StackingClassifier</label><div class=\"sk-toggleable__content\"><pre>StackingClassifier(estimators=[(&#x27;dt&#x27;,\n",
       "                                DecisionTreeClassifier(criterion=&#x27;entropy&#x27;,\n",
       "                                                       max_depth=6,\n",
       "                                                       min_samples_leaf=5,\n",
       "                                                       random_state=42)),\n",
       "                               (&#x27;log_reg&#x27;,\n",
       "                                LogisticRegression(random_state=42,\n",
       "                                                   solver=&#x27;sag&#x27;)),\n",
       "                               (&#x27;gb&#x27;,\n",
       "                                GradientBoostingClassifier(learning_rate=0.05,\n",
       "                                                           max_depth=5,\n",
       "                                                           min_samples_leaf=5,\n",
       "                                                           n_estimators=300,\n",
       "                                                           random_state=42))],\n",
       "                   final_estimator=LogisticRegression(random_state=42))</pre></div></div></div><div class=\"sk-serial\"><div class=\"sk-item\"><div class=\"sk-parallel\"><div class=\"sk-parallel-item\"><div class=\"sk-item\"><div class=\"sk-label-container\"><div class=\"sk-label sk-toggleable\"><label>dt</label></div></div><div class=\"sk-serial\"><div class=\"sk-item\"><div class=\"sk-estimator sk-toggleable\"><input class=\"sk-toggleable__control sk-hidden--visually\" id=\"sk-estimator-id-3\" type=\"checkbox\" ><label for=\"sk-estimator-id-3\" class=\"sk-toggleable__label sk-toggleable__label-arrow\">DecisionTreeClassifier</label><div class=\"sk-toggleable__content\"><pre>DecisionTreeClassifier(criterion=&#x27;entropy&#x27;, max_depth=6, min_samples_leaf=5,\n",
       "                       random_state=42)</pre></div></div></div></div></div></div><div class=\"sk-parallel-item\"><div class=\"sk-item\"><div class=\"sk-label-container\"><div class=\"sk-label sk-toggleable\"><label>log_reg</label></div></div><div class=\"sk-serial\"><div class=\"sk-item\"><div class=\"sk-estimator sk-toggleable\"><input class=\"sk-toggleable__control sk-hidden--visually\" id=\"sk-estimator-id-4\" type=\"checkbox\" ><label for=\"sk-estimator-id-4\" class=\"sk-toggleable__label sk-toggleable__label-arrow\">LogisticRegression</label><div class=\"sk-toggleable__content\"><pre>LogisticRegression(random_state=42, solver=&#x27;sag&#x27;)</pre></div></div></div></div></div></div><div class=\"sk-parallel-item\"><div class=\"sk-item\"><div class=\"sk-label-container\"><div class=\"sk-label sk-toggleable\"><label>gb</label></div></div><div class=\"sk-serial\"><div class=\"sk-item\"><div class=\"sk-estimator sk-toggleable\"><input class=\"sk-toggleable__control sk-hidden--visually\" id=\"sk-estimator-id-5\" type=\"checkbox\" ><label for=\"sk-estimator-id-5\" class=\"sk-toggleable__label sk-toggleable__label-arrow\">GradientBoostingClassifier</label><div class=\"sk-toggleable__content\"><pre>GradientBoostingClassifier(learning_rate=0.05, max_depth=5, min_samples_leaf=5,\n",
       "                           n_estimators=300, random_state=42)</pre></div></div></div></div></div></div></div></div><div class=\"sk-item\"><div class=\"sk-parallel\"><div class=\"sk-parallel-item\"><div class=\"sk-item\"><div class=\"sk-label-container\"><div class=\"sk-label sk-toggleable\"><label>final_estimator</label></div></div><div class=\"sk-serial\"><div class=\"sk-item\"><div class=\"sk-estimator sk-toggleable\"><input class=\"sk-toggleable__control sk-hidden--visually\" id=\"sk-estimator-id-6\" type=\"checkbox\" ><label for=\"sk-estimator-id-6\" class=\"sk-toggleable__label sk-toggleable__label-arrow\">LogisticRegression</label><div class=\"sk-toggleable__content\"><pre>LogisticRegression(random_state=42)</pre></div></div></div></div></div></div></div></div></div></div></div></div>"
      ],
      "text/plain": [
       "StackingClassifier(estimators=[('dt',\n",
       "                                DecisionTreeClassifier(criterion='entropy',\n",
       "                                                       max_depth=6,\n",
       "                                                       min_samples_leaf=5,\n",
       "                                                       random_state=42)),\n",
       "                               ('log_reg',\n",
       "                                LogisticRegression(random_state=42,\n",
       "                                                   solver='sag')),\n",
       "                               ('gb',\n",
       "                                GradientBoostingClassifier(learning_rate=0.05,\n",
       "                                                           max_depth=5,\n",
       "                                                           min_samples_leaf=5,\n",
       "                                                           n_estimators=300,\n",
       "                                                           random_state=42))],\n",
       "                   final_estimator=LogisticRegression(random_state=42))"
      ]
     },
     "execution_count": 62,
     "metadata": {},
     "output_type": "execute_result"
    }
   ],
   "source": [
    "estimators = [\n",
    "    ('dt', tree.DecisionTreeClassifier(\n",
    "        criterion='entropy',\n",
    "        min_samples_leaf=5,\n",
    "        max_depth=6,\n",
    "        random_state=42\n",
    "        )\n",
    "    ),\n",
    "    ('log_reg', linear_model.LogisticRegression(\n",
    "        solver='sag',\n",
    "        random_state=42\n",
    "        )\n",
    "    ),\n",
    "    ('gb', ensemble.GradientBoostingClassifier(\n",
    "        learning_rate=0.05,\n",
    "        n_estimators=300,\n",
    "        min_samples_leaf=5,\n",
    "        max_depth=5,\n",
    "        random_state=42\n",
    "        )\n",
    "    )\n",
    "]\n",
    "\n",
    "stack = ensemble.StackingClassifier(\n",
    "    estimators,\n",
    "    final_estimator=linear_model.LogisticRegression(random_state=42)\n",
    ")\n",
    "stack.fit(X_train_scaled, y_train)"
   ]
  },
  {
   "cell_type": "markdown",
   "id": "56097368",
   "metadata": {},
   "source": [
    "оцените, какие признаки демонстрируют наибольшую  важность в модели градиентного бустинга\n"
   ]
  },
  {
   "cell_type": "code",
   "execution_count": 63,
   "id": "1d610c2f",
   "metadata": {},
   "outputs": [
    {
     "name": "stdout",
     "output_type": "stream",
     "text": [
      "Precision: 0.81\n"
     ]
    }
   ],
   "source": [
    "from sklearn.metrics import precision_score\n",
    "\n",
    "# Получение предсказаний на тестовой выборке\n",
    "y_pred = stack.predict(X_test_scaled)\n",
    "\n",
    "# Вычисление метрики precision\n",
    "precision = precision_score(y_test, y_pred)\n",
    "\n",
    "# Вывод результата с округлением до двух знаков после точки-разделителя\n",
    "print(f'Precision: {precision:.2f}')"
   ]
  },
  {
   "cell_type": "markdown",
   "id": "6247a5fb",
   "metadata": {},
   "source": [
    "### Задание 5\n",
    "\n",
    "оцените, какие признаки демонстрируют наибольшую  важность в модели градиентного бустинга\n"
   ]
  },
  {
   "cell_type": "code",
   "execution_count": 64,
   "id": "35de769c",
   "metadata": {},
   "outputs": [
    {
     "name": "stdout",
     "output_type": "stream",
     "text": [
      "Feature importance:\n",
      "duration: 0.5700316725063395\n",
      "poutcome_success: 0.1262254446917176\n",
      "contact_unknown: 0.07833718294567539\n",
      "housing_encoded: 0.05700276461028553\n",
      "pdays: 0.03812627202776855\n",
      "month_mar: 0.03124395067954335\n",
      "balance: 0.022597953837513604\n",
      "month_oct: 0.01862221768511235\n",
      "month_sep: 0.015289707003271463\n",
      "loan_encoded: 0.011322535364640604\n",
      "campaign: 0.009165812682098597\n",
      "month_may: 0.006264216493828561\n",
      "poutcome_unknown: 0.006210953545380679\n",
      "job_student: 0.00572093525949891\n",
      "previous: 0.0038383806673254316\n"
     ]
    },
    {
     "data": {
      "image/png": "[encoded data removed]",
      "text/plain": [
       "<Figure size 1000x600 with 1 Axes>"
      ]
     },
     "metadata": {},
     "output_type": "display_data"
    }
   ],
   "source": [
    "from sklearn.ensemble import GradientBoostingClassifier\n",
    "import numpy as np\n",
    "import matplotlib.pyplot as plt\n",
    "\n",
    "# Создание и обучение модели\n",
    "gb = GradientBoostingClassifier()\n",
    "gb.fit(X_train_scaled, y_train)\n",
    "\n",
    "# Получение важности признаков\n",
    "importance = gb.feature_importances_\n",
    "\n",
    "# Сортировка признаков по их важности\n",
    "indices = np.argsort(importance)[::-1]\n",
    "\n",
    "# Вывод важности признаков\n",
    "print(\"Feature importance:\")\n",
    "for f in range(X_train_scaled.shape[1]):\n",
    "    print(f\"{selected_feature_names[indices[f]]}: {importance[indices[f]]}\")\n",
    "\n",
    "# Визуализация важности признаков (опционально)\n",
    "plt.figure(figsize=(10, 6))\n",
    "plt.bar(range(X_train_scaled.shape[1]), importance[indices], align=\"center\")\n",
    "plt.xticks(range(X_train_scaled.shape[1]), [selected_feature_names[i] for i in indices], rotation=90)\n",
    "plt.title(\"Feature Importance\")\n",
    "plt.show()"
   ]
  },
  {
   "cell_type": "markdown",
   "id": "96974dda",
   "metadata": {},
   "source": [
    "### Задания 6,7,8\n",
    "\n",
    "реализуйте оптимизацию гиперпараметров с помощью Optuna\n"
   ]
  },
  {
   "cell_type": "code",
   "execution_count": 65,
   "id": "c48e29e9",
   "metadata": {},
   "outputs": [],
   "source": [
    "import optuna\n",
    "from sklearn.model_selection import train_test_split\n",
    "from sklearn.ensemble import RandomForestClassifier\n",
    "from sklearn.metrics import accuracy_score\n",
    "\n",
    "def optuna_rf(trial):\n",
    "  # задаем пространства поиска гиперпараметров\n",
    "  n_estimators = trial.suggest_int('n_estimators', 100, 200, 1)\n",
    "  max_depth = trial.suggest_int('max_depth', 10, 30, 1)\n",
    "  min_samples_leaf = trial.suggest_int('min_samples_leaf', 2, 10, 1)\n",
    "\n",
    "  # создаем модель\n",
    "  model = ensemble.RandomForestClassifier(n_estimators=n_estimators,\n",
    "                                          max_depth=max_depth,\n",
    "                                          min_samples_leaf=min_samples_leaf,\n",
    "                                          random_state=random_state)\n",
    "  # обучаем модель\n",
    "  model.fit(X_train_scaled, y_train)\n",
    "  score = metrics.f1_score(y_test, model.predict(X_test_scaled))\n",
    "\n",
    "  return score"
   ]
  },
  {
   "cell_type": "code",
   "execution_count": 66,
   "id": "71f1e8a9",
   "metadata": {},
   "outputs": [
    {
     "name": "stderr",
     "output_type": "stream",
     "text": [
      "[I 2024-05-16 16:18:55,686] A new study created in memory with name: RandomForestClassifier\n",
      "[I 2024-05-16 16:18:56,032] Trial 0 finished with value: 0.8199306212551246 and parameters: {'n_estimators': 126, 'max_depth': 19, 'min_samples_leaf': 9}. Best is trial 0 with value: 0.8199306212551246.\n",
      "[I 2024-05-16 16:18:56,331] Trial 1 finished with value: 0.8185840707964601 and parameters: {'n_estimators': 113, 'max_depth': 22, 'min_samples_leaf': 9}. Best is trial 0 with value: 0.8199306212551246.\n",
      "[I 2024-05-16 16:18:56,886] Trial 2 finished with value: 0.8149319835495097 and parameters: {'n_estimators': 164, 'max_depth': 22, 'min_samples_leaf': 2}. Best is trial 0 with value: 0.8199306212551246.\n",
      "[I 2024-05-16 16:18:57,236] Trial 3 finished with value: 0.8230088495575221 and parameters: {'n_estimators': 117, 'max_depth': 13, 'min_samples_leaf': 3}. Best is trial 3 with value: 0.8230088495575221.\n",
      "[I 2024-05-16 16:18:57,712] Trial 4 finished with value: 0.8199936728883265 and parameters: {'n_estimators': 180, 'max_depth': 16, 'min_samples_leaf': 10}. Best is trial 3 with value: 0.8230088495575221.\n",
      "[I 2024-05-16 16:18:58,260] Trial 5 finished with value: 0.8221169036334913 and parameters: {'n_estimators': 200, 'max_depth': 14, 'min_samples_leaf': 6}. Best is trial 3 with value: 0.8230088495575221.\n",
      "[I 2024-05-16 16:18:58,698] Trial 6 finished with value: 0.8162230671736376 and parameters: {'n_estimators': 170, 'max_depth': 25, 'min_samples_leaf': 10}. Best is trial 3 with value: 0.8230088495575221.\n",
      "[I 2024-05-16 16:18:59,003] Trial 7 finished with value: 0.8233070866141733 and parameters: {'n_estimators': 114, 'max_depth': 12, 'min_samples_leaf': 5}. Best is trial 7 with value: 0.8233070866141733.\n",
      "[I 2024-05-16 16:18:59,441] Trial 8 finished with value: 0.8168567807351077 and parameters: {'n_estimators': 144, 'max_depth': 22, 'min_samples_leaf': 4}. Best is trial 7 with value: 0.8233070866141733.\n",
      "[I 2024-05-16 16:18:59,906] Trial 9 finished with value: 0.8200757575757576 and parameters: {'n_estimators': 170, 'max_depth': 21, 'min_samples_leaf': 9}. Best is trial 7 with value: 0.8233070866141733.\n",
      "[I 2024-05-16 16:19:00,184] Trial 10 finished with value: 0.822447685478757 and parameters: {'n_estimators': 101, 'max_depth': 11, 'min_samples_leaf': 6}. Best is trial 7 with value: 0.8233070866141733.\n",
      "[I 2024-05-16 16:19:00,554] Trial 11 finished with value: 0.8228209191759113 and parameters: {'n_estimators': 133, 'max_depth': 10, 'min_samples_leaf': 3}. Best is trial 7 with value: 0.8233070866141733.\n",
      "[I 2024-05-16 16:19:00,899] Trial 12 finished with value: 0.8218918063903828 and parameters: {'n_estimators': 118, 'max_depth': 14, 'min_samples_leaf': 4}. Best is trial 7 with value: 0.8233070866141733.\n",
      "[I 2024-05-16 16:19:01,318] Trial 13 finished with value: 0.8213721150806197 and parameters: {'n_estimators': 140, 'max_depth': 30, 'min_samples_leaf': 5}. Best is trial 7 with value: 0.8233070866141733.\n",
      "[I 2024-05-16 16:19:01,621] Trial 14 finished with value: 0.8194751817894405 and parameters: {'n_estimators': 103, 'max_depth': 17, 'min_samples_leaf': 7}. Best is trial 7 with value: 0.8233070866141733.\n",
      "[I 2024-05-16 16:19:01,993] Trial 15 finished with value: 0.8250866687677278 and parameters: {'n_estimators': 118, 'max_depth': 13, 'min_samples_leaf': 2}. Best is trial 15 with value: 0.8250866687677278.\n",
      "[I 2024-05-16 16:19:02,462] Trial 16 finished with value: 0.8243114909781576 and parameters: {'n_estimators': 155, 'max_depth': 12, 'min_samples_leaf': 2}. Best is trial 15 with value: 0.8250866687677278.\n",
      "[I 2024-05-16 16:19:02,984] Trial 17 finished with value: 0.8157310497938471 and parameters: {'n_estimators': 155, 'max_depth': 17, 'min_samples_leaf': 2}. Best is trial 15 with value: 0.8250866687677278.\n",
      "[I 2024-05-16 16:19:03,505] Trial 18 finished with value: 0.8154479265590375 and parameters: {'n_estimators': 153, 'max_depth': 26, 'min_samples_leaf': 2}. Best is trial 15 with value: 0.8250866687677278.\n",
      "[I 2024-05-16 16:19:03,850] Trial 19 finished with value: 0.8213265629958743 and parameters: {'n_estimators': 130, 'max_depth': 10, 'min_samples_leaf': 3}. Best is trial 15 with value: 0.8250866687677278.\n"
     ]
    },
    {
     "name": "stdout",
     "output_type": "stream",
     "text": [
      "CPU times: user 8.32 s, sys: 84 ms, total: 8.4 s\n",
      "Wall time: 8.16 s\n"
     ]
    }
   ],
   "source": [
    "%%time\n",
    "# cоздаем объект исследования\n",
    "# можем напрямую указать, что нам необходимо максимизировать метрику direction=\"maximize\"\n",
    "study = optuna.create_study(study_name=\"RandomForestClassifier\", direction=\"maximize\")\n",
    "# ищем лучшую комбинацию гиперпараметров n_trials раз\n",
    "study.optimize(optuna_rf, n_trials=20)"
   ]
  },
  {
   "cell_type": "code",
   "execution_count": 67,
   "id": "4f0f71e9",
   "metadata": {},
   "outputs": [
    {
     "name": "stdout",
     "output_type": "stream",
     "text": [
      "Наилучшие значения гиперпараметров {'n_estimators': 118, 'max_depth': 13, 'min_samples_leaf': 2}\n",
      "f1_score на тестовом наборе: 0.83\n"
     ]
    }
   ],
   "source": [
    "# выводим результаты на тестовой выборке\n",
    "print(\"Наилучшие значения гиперпараметров {}\".format(study.best_params))\n",
    "print(\"f1_score на тестовом наборе: {:.2f}\".format(study.best_value))"
   ]
  },
  {
   "cell_type": "code",
   "execution_count": 68,
   "id": "920098bc",
   "metadata": {},
   "outputs": [
    {
     "name": "stderr",
     "output_type": "stream",
     "text": [
      "[I 2024-05-16 16:19:03,861] A new study created in memory with name: RandomForestClassifier\n",
      "[I 2024-05-16 16:19:04,346] Trial 0 finished with value: 0.8341829085457272 and parameters: {'n_estimators': 166, 'max_depth': 12, 'min_samples_leaf': 4}. Best is trial 0 with value: 0.8341829085457272.\n",
      "[I 2024-05-16 16:19:04,740] Trial 1 finished with value: 0.8266866566716642 and parameters: {'n_estimators': 121, 'max_depth': 26, 'min_samples_leaf': 3}. Best is trial 0 with value: 0.8341829085457272.\n",
      "[I 2024-05-16 16:19:05,125] Trial 2 finished with value: 0.8257871064467767 and parameters: {'n_estimators': 144, 'max_depth': 19, 'min_samples_leaf': 10}. Best is trial 0 with value: 0.8341829085457272.\n",
      "[I 2024-05-16 16:19:05,608] Trial 3 finished with value: 0.8278860569715143 and parameters: {'n_estimators': 175, 'max_depth': 23, 'min_samples_leaf': 8}. Best is trial 0 with value: 0.8341829085457272.\n",
      "[I 2024-05-16 16:19:06,145] Trial 4 finished with value: 0.8350824587706147 and parameters: {'n_estimators': 191, 'max_depth': 11, 'min_samples_leaf': 2}. Best is trial 4 with value: 0.8350824587706147.\n",
      "[I 2024-05-16 16:19:06,574] Trial 5 finished with value: 0.8281859070464768 and parameters: {'n_estimators': 146, 'max_depth': 18, 'min_samples_leaf': 5}. Best is trial 4 with value: 0.8350824587706147.\n",
      "[I 2024-05-16 16:19:07,018] Trial 6 finished with value: 0.8299850074962519 and parameters: {'n_estimators': 169, 'max_depth': 19, 'min_samples_leaf': 9}. Best is trial 4 with value: 0.8350824587706147.\n",
      "[I 2024-05-16 16:19:07,328] Trial 7 finished with value: 0.8287856071964018 and parameters: {'n_estimators': 111, 'max_depth': 30, 'min_samples_leaf': 9}. Best is trial 4 with value: 0.8350824587706147.\n",
      "[I 2024-05-16 16:19:07,718] Trial 8 finished with value: 0.8332833583208396 and parameters: {'n_estimators': 144, 'max_depth': 11, 'min_samples_leaf': 5}. Best is trial 4 with value: 0.8350824587706147.\n",
      "[I 2024-05-16 16:19:08,177] Trial 9 finished with value: 0.8320839580209896 and parameters: {'n_estimators': 174, 'max_depth': 13, 'min_samples_leaf': 7}. Best is trial 4 with value: 0.8350824587706147.\n",
      "[I 2024-05-16 16:19:08,822] Trial 10 finished with value: 0.8320839580209896 and parameters: {'n_estimators': 199, 'max_depth': 15, 'min_samples_leaf': 2}. Best is trial 4 with value: 0.8350824587706147.\n",
      "[I 2024-05-16 16:19:09,337] Trial 11 finished with value: 0.8350824587706147 and parameters: {'n_estimators': 196, 'max_depth': 10, 'min_samples_leaf': 3}. Best is trial 4 with value: 0.8350824587706147.\n",
      "[I 2024-05-16 16:19:09,877] Trial 12 finished with value: 0.8353823088455772 and parameters: {'n_estimators': 200, 'max_depth': 10, 'min_samples_leaf': 2}. Best is trial 12 with value: 0.8353823088455772.\n",
      "[I 2024-05-16 16:19:10,466] Trial 13 finished with value: 0.8329835082458771 and parameters: {'n_estimators': 187, 'max_depth': 15, 'min_samples_leaf': 2}. Best is trial 12 with value: 0.8353823088455772.\n",
      "[I 2024-05-16 16:19:11,061] Trial 14 finished with value: 0.8329835082458771 and parameters: {'n_estimators': 186, 'max_depth': 15, 'min_samples_leaf': 2}. Best is trial 12 with value: 0.8353823088455772.\n",
      "[I 2024-05-16 16:19:11,473] Trial 15 finished with value: 0.8311844077961019 and parameters: {'n_estimators': 160, 'max_depth': 10, 'min_samples_leaf': 6}. Best is trial 12 with value: 0.8353823088455772.\n",
      "[I 2024-05-16 16:19:12,040] Trial 16 finished with value: 0.8263868065967016 and parameters: {'n_estimators': 185, 'max_depth': 22, 'min_samples_leaf': 4}. Best is trial 12 with value: 0.8353823088455772.\n",
      "[I 2024-05-16 16:19:12,416] Trial 17 finished with value: 0.8314842578710645 and parameters: {'n_estimators': 125, 'max_depth': 13, 'min_samples_leaf': 3}. Best is trial 12 with value: 0.8353823088455772.\n",
      "[I 2024-05-16 16:19:13,034] Trial 18 finished with value: 0.8266866566716642 and parameters: {'n_estimators': 199, 'max_depth': 17, 'min_samples_leaf': 4}. Best is trial 12 with value: 0.8353823088455772.\n",
      "[I 2024-05-16 16:19:13,484] Trial 19 finished with value: 0.8290854572713643 and parameters: {'n_estimators': 159, 'max_depth': 16, 'min_samples_leaf': 6}. Best is trial 12 with value: 0.8353823088455772.\n"
     ]
    }
   ],
   "source": [
    "def optuna_rf_accuracy_score(trial):\n",
    "  # задаем пространства поиска гиперпараметров\n",
    "  n_estimators = trial.suggest_int('n_estimators', 100, 200, 1)\n",
    "  max_depth = trial.suggest_int('max_depth', 10, 30, 1)\n",
    "  min_samples_leaf = trial.suggest_int('min_samples_leaf', 2, 10, 1)\n",
    "\n",
    "  # создаем модель\n",
    "  model = ensemble.RandomForestClassifier(n_estimators=n_estimators,\n",
    "                                          max_depth=max_depth,\n",
    "                                          min_samples_leaf=min_samples_leaf,\n",
    "                                          random_state=random_state)\n",
    "  # обучаем модель\n",
    "  model.fit(X_train_scaled, y_train)\n",
    "  score = metrics.accuracy_score(y_test, model.predict(X_test_scaled))\n",
    "\n",
    "  return score\n",
    "\n",
    "\n",
    "# cоздаем объект исследования\n",
    "# можем напрямую указать, что нам необходимо максимизировать метрику direction=\"maximize\"\n",
    "study = optuna.create_study(study_name=\"RandomForestClassifier\", direction=\"maximize\")\n",
    "# ищем лучшую комбинацию гиперпараметров n_trials раз\n",
    "study.optimize(optuna_rf_accuracy_score, n_trials=20)"
   ]
  },
  {
   "cell_type": "code",
   "execution_count": 69,
   "id": "cdf1fae0",
   "metadata": {},
   "outputs": [
    {
     "name": "stdout",
     "output_type": "stream",
     "text": [
      "Наилучшие значения гиперпараметров {'n_estimators': 200, 'max_depth': 10, 'min_samples_leaf': 2}\n",
      "accuracy на тестовом наборе: 0.84\n"
     ]
    }
   ],
   "source": [
    "# выводим результаты на тестовой выборке\n",
    "print(\"Наилучшие значения гиперпараметров {}\".format(study.best_params))\n",
    "print(\"accuracy на тестовом наборе: {:.2f}\".format(study.best_value))"
   ]
  },
  {
   "cell_type": "markdown",
   "id": "ee241e67",
   "metadata": {},
   "source": [
    "#### Общий вывод\n",
    "\n",
    "Проведена предобработка признаков: пропущенные значения заменены простыми способами (медиана, мода), а выбросы баланса удалены методом Тьюкки.\n",
    "\n",
    "Проведен разведывательный анализ данных с целью выявления влияния признаков на целевой признак.\n",
    "\n",
    "Выполнено кодирование признаков и масштабирование значений.\n",
    "\n",
    "Проведена оценка влияния признаков на целевой признак с помощью корреляции Кендалла (из-за отсутствия монотонной связи и ненормального распределения признаков). Отобраны наиболее значимых признаков для построения моделей. \n",
    "\n",
    "Построены простые базовые модели: логистическая регрессия и решающее дерево.\n",
    "\n",
    "Созданы ансамблевые модели: случайный лес, градиентный бустинг на решающих деревьях, стекинг из деревьев, регрессии и бустинга.\n",
    "\n",
    "Проведены примеры подбора гиперпараметров. \n",
    "\n",
    "На каждом этапе моделирования оценивались метрики качества классификации. Ансамблевые модели показали лучшие результаты. Существенной разницы между ансамблевыми моделями на данном датасете не выявлено. "
   ]
  }
 ],
 "metadata": {
  "kernelspec": {
   "display_name": "Python 3 (ipykernel)",
   "language": "python",
   "name": "python3"
  },
  "language_info": {
   "codemirror_mode": {
    "name": "ipython",
    "version": 3
   },
   "file_extension": ".py",
   "mimetype": "text/x-python",
   "name": "python",
   "nbconvert_exporter": "python",
   "pygments_lexer": "ipython3",
   "version": "3.11.8"
  }
 },
 "nbformat": 4,
 "nbformat_minor": 5
}
